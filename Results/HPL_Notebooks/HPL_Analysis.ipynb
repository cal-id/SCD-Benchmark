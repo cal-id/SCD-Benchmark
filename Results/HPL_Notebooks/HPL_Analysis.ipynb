{
 "cells": [
  {
   "cell_type": "markdown",
   "metadata": {},
   "source": [
    "# Analysis of HPL\n",
    "\n",
    "This notebook performs data analysis of the csv files created by running the HPL benchmark"
   ]
  },
  {
   "cell_type": "code",
   "execution_count": 1,
   "metadata": {
    "collapsed": true
   },
   "outputs": [],
   "source": [
    "import csv\n",
    "import numpy as np\n",
    "import matplotlib.pyplot as plt\n",
    "import matplotlib.patches as mpatches\n",
    "import re\n",
    "\n",
    "# Standardise Fonts\n",
    "plt.rc('xtick', labelsize=8)\n",
    "plt.rc('ytick', labelsize=8) \n",
    "plt.rc('axes', titlesize=10)\n",
    "plt.rc(\"axes\", labelsize=8)"
   ]
  },
  {
   "cell_type": "code",
   "execution_count": 2,
   "metadata": {
    "slideshow": {
     "slide_type": "slide"
    }
   },
   "outputs": [
    {
     "name": "stdout",
     "output_type": "stream",
     "text": [
      "SCARF_HPL\n",
      "1st datapoints\n",
      "{'Time': '447.67', 'Delta Memory (MB)': '-', 'T/V': 'WR11R2C4', 'Run time (sec.)': '489', 'Average Memory (MB)': '13533.07', 'Q': '2', 'Protocols Seen': 'SHM', 'Turnaround time (sec.)': '481', 'NB': '180', 'Max Processes': '12', 'Gflops': '1.325e+02', 'Host Groups': 'scarf15', 'Total Requested Memory (MB)': '-', 'CPU time (sec.)': '1898.16', 'Exclusive': '1', 'Max Swap (MB)': '16549', 'N': '44640', 'Hosts Used': '4*cn528.scarf.rl.ac.uk', 'P': '2', 'File Name': '482673.out', 'Start Time': 'Thu Mar 23 11:31:26 2017', 'Max Threads': '14', 'Max Memory (MB)': '15576.47', 'Number of Hosts': '1'}\n",
      "Headers\n",
      "dict_keys(['Time', 'Delta Memory (MB)', 'T/V', 'Run time (sec.)', 'Average Memory (MB)', 'Q', 'Protocols Seen', 'Turnaround time (sec.)', 'NB', 'Max Processes', 'Gflops', 'Host Groups', 'Total Requested Memory (MB)', 'CPU time (sec.)', 'Exclusive', 'Max Swap (MB)', 'N', 'Hosts Used', 'P', 'File Name', 'Start Time', 'Max Threads', 'Max Memory (MB)', 'Number of Hosts'])\n",
      "\n",
      "Cloud_HPL\n",
      "1st datapoints\n",
      "{'NB': '180', 'N': '44640', 'T/V': 'WR11R2C4', 'Time': '1788.85', 'Q': '2', 'Gflops': '3.315e+01', 'P': '2', 'File Name': '20170327_035001.out', 'Number of Hosts': '1'}\n",
      "Headers\n",
      "dict_keys(['NB', 'N', 'T/V', 'Time', 'Q', 'Gflops', 'P', 'File Name', 'Number of Hosts'])\n",
      "\n",
      "JASMIN_HPL\n",
      "1st datapoints\n",
      "{'Time': '317.35', 'Delta Memory (MB)': '-', 'T/V': 'WR11R2C4', 'Average Memory (MB)': '14168.23', 'Q': '2', 'Protocols Seen': 'SHM', 'NB': '180', 'Max Processes': '11', 'Gflops': '1.869e+02', 'Host Groups': 'broadwell256G', 'Total Requested Memory (MB)': '-', 'CPU time (sec.)': '1344.09', 'Exclusive': '1', 'Max Swap (MB)': '24588', 'N': '44640', 'Hosts Used': '4*host347.jc.rl.ac.uk', 'P': '2', 'File Name': '4099233.out', 'Start Time': 'Thu Mar 23 11:31:51 2017', 'Max Threads': '13', 'Max Memory (MB)': '15568.48', 'Number of Hosts': '1'}\n",
      "Headers\n",
      "dict_keys(['Time', 'Delta Memory (MB)', 'T/V', 'Average Memory (MB)', 'Q', 'Protocols Seen', 'NB', 'Max Processes', 'Gflops', 'Host Groups', 'Total Requested Memory (MB)', 'CPU time (sec.)', 'Exclusive', 'Max Swap (MB)', 'N', 'Hosts Used', 'P', 'File Name', 'Start Time', 'Max Threads', 'Max Memory (MB)', 'Number of Hosts'])\n",
      "\n"
     ]
    }
   ],
   "source": [
    "# Store the results in a dictionary of lists\n",
    "results = {\n",
    "    \"Cloud_HPL\":[],\n",
    "    \"SCARF_HPL\":[],\n",
    "    \"JASMIN_HPL\":[]\n",
    "}\n",
    "\n",
    "# Parse data from csvs from each of the different results\n",
    "for dataName in results:\n",
    "    with open(\"../\" + dataName + \"/out.csv\", \"r\") as fHandle:\n",
    "        reader = csv.reader(fHandle)  # create an iterator over each row\n",
    "        headers = next(reader) # the headers are the first line\n",
    "        for row in reader:\n",
    "            thisRow = dict((header, row[index]) for index, header in enumerate(headers))\n",
    "            results[dataName].append(thisRow)\n",
    "            \n",
    "\n",
    "# Print a taste of the data, for a quick check that it worked\n",
    "for dataName in results:\n",
    "    print(dataName)\n",
    "    print(\"1st datapoints\")\n",
    "    print(results[dataName][0])\n",
    "    print(\"Headers\")\n",
    "    print(results[dataName][0].keys())\n",
    "    print()\n",
    "        "
   ]
  },
  {
   "cell_type": "code",
   "execution_count": 3,
   "metadata": {
    "collapsed": true,
    "slideshow": {
     "slide_type": "slide"
    }
   },
   "outputs": [],
   "source": [
    "import datetime\n",
    "\n",
    "# Do cloud dates:\n",
    "for result in results[\"Cloud_HPL\"]:\n",
    "    result[\"Date Run\"] = datetime.datetime.strptime(result[\"File Name\"], \"%Y%m%d_%H%M%S.out\")\n",
    "\n",
    "# Make SCARF and JASMIN uppercase and map 'X-X' -> 'X'\n",
    "for name in (\"SCARF_HPL\", \"JASMIN_HPL\"):\n",
    "    for result in results[name]:\n",
    "        result[\"Host Groups\"] = result[\"Host Groups\"].split(\"-\")[0].upper()\n",
    "        # Replace SHM-TCP and SHM-IBV with TCP and IBV\n",
    "        try:\n",
    "            result[\"Protocols Seen\"] = result[\"Protocols Seen\"].split(\"-\")[1]\n",
    "        except IndexError:\n",
    "            # Don't replace SHM with ''\n",
    "            pass\n",
    "\n",
    "    "
   ]
  },
  {
   "cell_type": "code",
   "execution_count": null,
   "metadata": {
    "collapsed": true
   },
   "outputs": [],
   "source": [
    "def makeLatexTableContent(xValues, yValues):\n",
    "    \"\"\"xValues should be a list of hostGroups, yValues should be a dictionary of lists\n",
    "    for the table. The key should be a hostGroup from xValues and the index should be \n",
    "    rowNum in range(0, len(xValues)).\"\"\"\n",
    "    toRtn = \"\"\n",
    "    for rowNum, hostGroup in enumerate(xValues):\n",
    "        data = [format(round(yValues[key][rowNum]*100)/100, \".2f\") if yValues[key][rowNum] != 0\n",
    "                else \"n/a\"\n",
    "                for key in [\"SHM\", \"TCP\", \"IBV\"]]\n",
    "        DELIM = \" & \"\n",
    "        toRtn += hostGroup + DELIM + DELIM.join(data) + r\"\\\\\" + \"\\n\"\n",
    "    return toRtn"
   ]
  },
  {
   "cell_type": "code",
   "execution_count": 4,
   "metadata": {},
   "outputs": [
    {
     "data": {
      "image/png": "[encoded data removed]",
      "text/plain": [
       "<matplotlib.figure.Figure at 0x7f5ce9c7ff60>"
      ]
     },
     "metadata": {},
     "output_type": "display_data"
    }
   ],
   "source": [
    "def plotGflops(BW_KEY=\"Gflops\"):\n",
    "    \n",
    "    xValues = []\n",
    "    clrs = {\"SHM\": \"r\", \"TCP\":\"g\", \"IBV\":\"b\"}\n",
    "    yValues = {\"SHM\":[], \"TCP\":[], \"IBV\":[]}\n",
    "    yTopError = {\"SHM\":[], \"TCP\":[], \"IBV\":[]}\n",
    "    yBottomError = {\"SHM\":[], \"TCP\":[], \"IBV\":[]}\n",
    "    \n",
    "    def addBarData(listOfData, label):\n",
    "        listOfData = [float(val) for val in listOfData]\n",
    "        nonlocal yValues\n",
    "        nonlocal yTopError\n",
    "        nonlocal yBottomError\n",
    "        avg = sum(listOfData) / len(listOfData)\n",
    "        yValues[label].append(avg)\n",
    "        yTopError[label].append(max(listOfData) - avg)\n",
    "        yBottomError[label].append(avg - min(listOfData))\n",
    "    \n",
    "    \n",
    "    # Add the cloud split into number of hosts\n",
    "    addBarData([row[BW_KEY] for row in results[\"Cloud_HPL\"] if row[\"Number of Hosts\"] == \"1\"], \"SHM\")\n",
    "    addBarData([row[BW_KEY] for row in results[\"Cloud_HPL\"] if row[\"Number of Hosts\"] == \"2\"], \"TCP\")\n",
    "    addBarData([0], \"IBV\")\n",
    "\n",
    "    xValues.append(\"Cloud\")\n",
    "    \n",
    "   \n",
    "    # Add the JASMIN and SCARF data split into host group and number of hosts\n",
    "    for name in (\"SCARF_HPL\", \"JASMIN_HPL\"):\n",
    "        for hostgroup in sorted(set(row[\"Host Groups\"] for row in results[name])):\n",
    "            xValues += [hostgroup]\n",
    "            for prot in clrs.keys():\n",
    "                \n",
    "                thisData = [row[BW_KEY] for row in results[name] \n",
    "                            if hostgroup in row[\"Host Groups\"] and prot == row[\"Protocols Seen\"]]\n",
    "                if len(thisData) == 0:  # if no data then there is a divide by zero so send this (mostly IBV)\n",
    "                    addBarData([0], prot)\n",
    "                else:\n",
    "                    addBarData(thisData, prot)\n",
    "    \n",
    "    index = np.arange(len(xValues)) - 1\n",
    "    \n",
    "    \n",
    "    bar_width=0.25\n",
    "    plt.rcParams[\"figure.figsize\"] = (12,6)\n",
    "    ax = plt.gca()\n",
    "    plt.minorticks_on()\n",
    "    ax.yaxis.grid(True, which='major', linestyle='-')\n",
    "    # ax.yaxis.grid(True, which='minor', linestyle='')\n",
    "    \n",
    "    for i, (label, yVals) in enumerate(yValues.items()):\n",
    "        plt.bar(index + i * bar_width, yVals, bar_width, align='center', color=clrs[label], alpha=0.7, label=label)\n",
    "        plt.errorbar(index + i * bar_width, yVals, yerr=[yBottomError[label], yTopError[label]], linestyle=\" \", \n",
    "                     color=\"black\", zorder=6)\n",
    "    \n",
    "    print(makeLatexTableContent(xV))\n",
    "    \n",
    "    plt.xticks(index + bar_width, xValues, rotation=60)\n",
    "    plt.ylabel(\"Application Speed / GFlops\")\n",
    "    # plt.yscale(\"log\")\n",
    "    plt.title('Application Speed')\n",
    "    \n",
    "    plt.legend(loc=2, fontsize=8)\n",
    "    plt.tight_layout()\n",
    "    plt.savefig('applicationSpeed.png', format=\"png\")\n",
    "    plt.show()\n",
    "    \n",
    "\n",
    "\n",
    "plotGflops()"
   ]
  },
  {
   "cell_type": "code",
   "execution_count": null,
   "metadata": {
    "collapsed": true
   },
   "outputs": [],
   "source": []
  }
 ],
 "metadata": {
  "kernelspec": {
   "display_name": "Python 3",
   "language": "python",
   "name": "python3"
  },
  "language_info": {
   "codemirror_mode": {
    "name": "ipython",
    "version": 3
   },
   "file_extension": ".py",
   "mimetype": "text/x-python",
   "name": "python",
   "nbconvert_exporter": "python",
   "pygments_lexer": "ipython3",
   "version": "3.4.5"
  }
 },
 "nbformat": 4,
 "nbformat_minor": 2
}
