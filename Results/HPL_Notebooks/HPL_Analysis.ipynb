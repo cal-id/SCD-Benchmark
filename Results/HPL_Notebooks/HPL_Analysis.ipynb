{
 "cells": [
  {
   "cell_type": "markdown",
   "metadata": {},
   "source": [
    "# Analysis of HPL\n",
    "\n",
    "This notebook performs data analysis of the csv files created by running the HPL benchmark"
   ]
  },
  {
   "cell_type": "code",
   "execution_count": 27,
   "metadata": {
    "collapsed": true
   },
   "outputs": [],
   "source": [
    "import csv\n",
    "import numpy as np\n",
    "import matplotlib.pyplot as plt\n",
    "import matplotlib.patches as mpatches\n",
    "import re"
   ]
  },
  {
   "cell_type": "code",
   "execution_count": 28,
   "metadata": {
    "collapsed": false,
    "slideshow": {
     "slide_type": "slide"
    }
   },
   "outputs": [
    {
     "name": "stdout",
     "output_type": "stream",
     "text": [
      "Cloud_HPL\n",
      "1st datapoints\n",
      "{'File Name': '20170327_035001.out', 'Q': '2', 'Time': '1788.85', 'P': '2', 'N': '44640', 'T/V': 'WR11R2C4', 'NB': '180', 'Gflops': '3.315e+01', 'Number of Hosts': '1'}\n",
      "Headers\n",
      "dict_keys(['File Name', 'Q', 'Time', 'P', 'N', 'T/V', 'NB', 'Gflops', 'Number of Hosts'])\n",
      "\n",
      "SCARF_HPL\n",
      "1st datapoints\n",
      "{'Hosts Used': '4*cn528.scarf.rl.ac.uk', 'T/V': 'WR11R2C4', 'NB': '180', 'Start Time': 'Thu Mar 23 11:31:26 2017', 'Host Groups': 'scarf15', 'Exclusive': '1', 'File Name': '482673.out', 'Turnaround time (sec.)': '481', 'Run time (sec.)': '489', 'Max Processes': '12', 'Q': '2', 'CPU time (sec.)': '1898.16', 'Number of Hosts': '1', 'Protocols Seen': 'SHM', 'Average Memory (MB)': '13533.07', 'N': '44640', 'Total Requested Memory (MB)': '-', 'Delta Memory (MB)': '-', 'Max Threads': '14', 'Gflops': '1.325e+02', 'Max Swap (MB)': '16549', 'Max Memory (MB)': '15576.47', 'P': '2', 'Time': '447.67'}\n",
      "Headers\n",
      "dict_keys(['Hosts Used', 'T/V', 'NB', 'Start Time', 'Host Groups', 'Exclusive', 'File Name', 'Turnaround time (sec.)', 'Run time (sec.)', 'Max Processes', 'Q', 'CPU time (sec.)', 'Number of Hosts', 'Protocols Seen', 'Average Memory (MB)', 'N', 'Total Requested Memory (MB)', 'Delta Memory (MB)', 'Max Threads', 'Gflops', 'Max Swap (MB)', 'Max Memory (MB)', 'P', 'Time'])\n",
      "\n"
     ]
    }
   ],
   "source": [
    "# Store the results in a dictionary of lists\n",
    "results = {\n",
    "    \"Cloud_HPL\":[],\n",
    "    \"SCARF_HPL\":[]\n",
    "}\n",
    "\n",
    "# Parse data from csvs from each of the different results\n",
    "for dataName in results:\n",
    "    with open(\"../\" + dataName + \"/out.csv\", \"r\") as fHandle:\n",
    "        reader = csv.reader(fHandle)  # create an iterator over each row\n",
    "        headers = next(reader) # the headers are the first line\n",
    "        for row in reader:\n",
    "            thisRow = dict((header, row[index]) for index, header in enumerate(headers))\n",
    "            results[dataName].append(thisRow)\n",
    "            \n",
    "\n",
    "# Print a taste of the data, for a quick check that it worked\n",
    "for dataName in results:\n",
    "    print(dataName)\n",
    "    print(\"1st datapoints\")\n",
    "    print(results[dataName][0])\n",
    "    print(\"Headers\")\n",
    "    print(results[dataName][0].keys())\n",
    "    print()\n",
    "        "
   ]
  },
  {
   "cell_type": "code",
   "execution_count": 29,
   "metadata": {
    "collapsed": false,
    "slideshow": {
     "slide_type": "slide"
    }
   },
   "outputs": [],
   "source": [
    "import datetime\n",
    "\n",
    "# Do cloud dates:\n",
    "for result in results[\"Cloud_HPL\"]:\n",
    "    result[\"Date Run\"] = datetime.datetime.strptime(result[\"File Name\"], \"%Y%m%d_%H%M%S.out\")\n",
    "\n",
    "# Make SCARF uppercase and map 'X-X' -> 'X'\n",
    "for result in results[\"SCARF_HPL\"]:\n",
    "    result[\"Host Groups\"] = result[\"Host Groups\"].split(\"-\")[0].upper()\n",
    "    "
   ]
  },
  {
   "cell_type": "code",
   "execution_count": 26,
   "metadata": {
    "collapsed": false,
    "scrolled": false
   },
   "outputs": [
    {
     "data": {
      "image/png": "[encoded data removed]",
      "text/plain": [
       "<matplotlib.figure.Figure at 0x6112d50>"
      ]
     },
     "metadata": {},
     "output_type": "display_data"
    }
   ],
   "source": [
    "def plotGflops(BW_KEY=\"Gflops\"):\n",
    "    \n",
    "    xValues = []\n",
    "    clrs = {\"SHM\": \"r\", \"SHM-TCP\":\"g\", \"SHM-IBV\":\"b\"}\n",
    "    yValues = {\"SHM\":[], \"SHM-TCP\":[], \"SHM-IBV\":[]}\n",
    "    yTopError = {\"SHM\":[], \"SHM-TCP\":[], \"SHM-IBV\":[]}\n",
    "    yBottomError = {\"SHM\":[], \"SHM-TCP\":[], \"SHM-IBV\":[]}\n",
    "    \n",
    "    def addBarData(listOfData, label):\n",
    "        listOfData = [float(val) for val in listOfData]\n",
    "        nonlocal yValues\n",
    "        nonlocal yTopError\n",
    "        nonlocal yBottomError\n",
    "        avg = sum(listOfData) / len(listOfData)\n",
    "        yValues[label].append(avg)\n",
    "        yTopError[label].append(max(listOfData) - avg)\n",
    "        yBottomError[label].append(avg - min(listOfData))\n",
    "    \n",
    "    \n",
    "    # Add the cloud split into number of hosts\n",
    "    addBarData([row[BW_KEY] for row in results[\"Cloud_HPL\"] if row[\"Number of Hosts\"] == \"1\"], \"SHM\")\n",
    "    addBarData([row[BW_KEY] for row in results[\"Cloud_HPL\"] if row[\"Number of Hosts\"] == \"2\"], \"SHM-TCP\")\n",
    "    addBarData([0], \"SHM-IBV\")\n",
    "\n",
    "    xValues.append(\"Cloud\")\n",
    "    \n",
    "    \n",
    "    # Add the SCARF split into host group and number of hosts\n",
    "    for hostgroup in sorted(set(row[\"Host Groups\"] for row in results[\"SCARF_HPL\"])):\n",
    "        xValues += [hostgroup]\n",
    "        for prot in sorted(set(row[\"Protocols Seen\"] for row in results[\"SCARF_HPL\"])):\n",
    "            addBarData([row[BW_KEY] for row in results[\"SCARF_HPL\"] \n",
    "                        if hostgroup in row[\"Host Groups\"] and prot == row[\"Protocols Seen\"]], prot)\n",
    "    \n",
    "    index = np.arange(len(xValues)) - 1\n",
    "    \n",
    "    bar_width=0.3\n",
    "    \n",
    "    \n",
    "    for i, (label, yVals) in enumerate(yValues.items()):\n",
    "        plt.bar(index + i * bar_width, yVals, bar_width, align='center', color=clrs[label], alpha=0.5, label=label)\n",
    "        plt.errorbar(index + i * bar_width, yVals, yerr=[yTopError[label], yBottomError[label]], linestyle=\" \", \n",
    "                     color=clrs[label])\n",
    "    \n",
    "    plt.xticks(index + bar_width, xValues, rotation=\"vertical\")\n",
    "    \n",
    "    plt.rcParams[\"figure.figsize\"] = (10,5)\n",
    "    plt.ylabel(\"Application Speed / GFlops\")\n",
    "    # plt.yscale(\"log\")\n",
    "    plt.title('Application Speed for different infrastructures using key {}'.format(BW_KEY))\n",
    "\n",
    "    plt.legend(loc=2, fontsize=6)\n",
    "    plt.tight_layout()\n",
    "    \n",
    "    plt.show()\n",
    "    \n",
    "\n",
    "\n",
    "plotGflops()"
   ]
  },
  {
   "cell_type": "code",
   "execution_count": null,
   "metadata": {
    "collapsed": true
   },
   "outputs": [],
   "source": []
  }
 ],
 "metadata": {
  "kernelspec": {
   "display_name": "Python 3",
   "language": "python",
   "name": "python3"
  },
  "language_info": {
   "codemirror_mode": {
    "name": "ipython",
    "version": 3
   },
   "file_extension": ".py",
   "mimetype": "text/x-python",
   "name": "python",
   "nbconvert_exporter": "python",
   "pygments_lexer": "ipython3",
   "version": "3.5.2"
  }
 },
 "nbformat": 4,
 "nbformat_minor": 2
}
